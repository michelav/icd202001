{
 "cells": [
  {
   "cell_type": "markdown",
   "metadata": {},
   "source": [
    "# Política no Twitter\n",
    "\n",
    "Projeto da disciplina de Introdução a Ciência de Dados."
   ]
  },
  {
   "cell_type": "markdown",
   "metadata": {},
   "source": [
    "## Configuração\n",
    "\n",
    "+ Instale e configure sua versão do Anaconda. Orientações disponíveis no próprio [site](https://docs.anaconda.com/anaconda/install/) do produto\n",
    "\n",
    "+ Ative o conda, crie e utilize um novo ambiente\n",
    "\n",
    "```shell\n",
    "source path_to_conda/activate\n",
    "conda env create -f environment.yml\n",
    "conda activate ptwitter\n",
    "```\n",
    "\n",
    "+ Inicie o ```jupyter-lab```.\n"
   ]
  },
  {
   "cell_type": "markdown",
   "metadata": {},
   "source": [
    "## Datasets"
   ]
  },
  {
   "cell_type": "code",
   "execution_count": 47,
   "metadata": {},
   "outputs": [],
   "source": [
    "import os\n",
    "import pandas as pd\n",
    "\n",
    "dfs = [] \n",
    "to_be_dropped = ['id', 'display_text_range', 'entities', 'source', \n",
    "                 'in_reply_to_status_id', 'in_reply_to_status_id_str', \n",
    "                 'in_reply_to_user_id', 'in_reply_to_user_id_str', \n",
    "                 'in_reply_to_screen_name', 'user', 'geo', 'coordinates', 'place',\n",
    "                 'contributors', 'is_quote_status', 'lang', 'extended_entities',\n",
    "                 'quoted_status_id', 'quoted_status_id_str', 'quoted_status_permalink']\n",
    "\n",
    "with os.scandir('dados') as lsit:\n",
    "    fit = (f for f in lsit if f.is_file())\n",
    "    for f in fit:\n",
    "        profile = f.name.split('.')[0]\n",
    "        df = pd.read_json(f.path).drop(columns=to_be_dropped)\n",
    "        df['tweet_len'] = df['full_text'].apply(len)\n",
    "        df['word_count'] = df['full_text'].apply(lambda x: len(str(x).split()))\n",
    "        df['profile'] = profile\n",
    "        dfs.append(df)\n",
    "\n",
    "tweets_df = pd.concat(dfs)\n",
    "\n",
    "lula_df = tweets_df[tweets_df['profile'] == 'lulaoficial']\n",
    "bolsonaro_df = tweets_df[tweets_df['profile'] == 'jairbolsonaro']"
   ]
  },
  {
   "cell_type": "code",
   "execution_count": 48,
   "metadata": {},
   "outputs": [
    {
     "name": "stdout",
     "output_type": "stream",
     "text": [
      "[('lula', 5293), ('país', 1714), ('brasil', 1482), ('lulapelobrasil', 1141), ('presidente', 929), ('gente', 926), ('pra', 842), ('@haddad_fernando', 688), ('governo', 656), ('pt', 634), ('anos', 633), ('hoje', 613), ('vivo', 600), ('dia', 593), ('ricardo', 581)]\n"
     ]
    }
   ],
   "source": [
    "import pt_core_news_sm\n",
    "from collections import Counter\n",
    "\n",
    "custom_stop_words = ['a', 'e', 'o', 'n', 'd', 'A', 'E', 'O', 'N', 'D']\n",
    "words = []\n",
    "nlp = pt_core_news_sm.load()\n",
    "\n",
    "for sw in custom_stop_words:\n",
    "    nlp.vocab[sw].is_stop = True\n",
    "\n",
    "docs = list(nlp.pipe(lula_df['full_text'].str.replace(r'\\n', '').to_numpy()))\n",
    "\n",
    "words = [token.text.lower() for doc in docs for token in doc if  not token.is_stop and not token.is_punct and not token.like_url]\n",
    "\n",
    "words_freq = Counter(words)\n",
    "\n",
    "print(words_freq.most_common(15))"
   ]
  },
  {
   "cell_type": "code",
   "execution_count": 64,
   "metadata": {},
   "outputs": [
    {
     "data": {
      "image/png": "[encoded data removed]",
      "text/plain": [
       "<Figure size 432x288 with 1 Axes>"
      ]
     },
     "metadata": {
      "needs_background": "light"
     },
     "output_type": "display_data"
    }
   ],
   "source": [
    "import numpy as np\n",
    "import matplotlib.pyplot as plt\n",
    "\n",
    "fig, ax = plt.subplots()\n",
    "labels, data = zip(*words_freq.most_common(10))\n",
    "\n",
    "x = np.arange(len(labels))  # the label locations\n",
    "# width = 0.6  # the width of the bars\n",
    "\n",
    "# rects = ax.bar(x, list(data), width)\n",
    "# rects2 = ax.bar(x + width/2, women_means, width, label='Women')\n",
    "\n",
    "# Add some text for labels, title and custom x-axis tick labels, etc.\n",
    "ax.set_ylabel('Frequência')\n",
    "ax.set_title('Palavras mais utilizadas pelo Lula')\n",
    "# ax.set_xticks(x)\n",
    "# ax.set_xticklabels(list(labels))\n",
    "\n",
    "# def autolabel(rects):\n",
    "#     \"\"\"Attach a text label above each bar in *rects*, displaying its height.\"\"\"\n",
    "#     for rect in rects:\n",
    "#         height = rect.get_height()\n",
    "#         ax.annotate('{}'.format(height),\n",
    "#                     xy=(rect.get_x() + rect.get_width() / 2, height),\n",
    "#                     xytext=(0, 3),  # 3 points vertical offset\n",
    "#                     textcoords=\"offset points\",\n",
    "#                     ha='center', va='bottom')\n",
    "\n",
    "\n",
    "# autolabel(rects)\n",
    "\n",
    "plt.bar(x, list(data))\n",
    "plt.xticks(x, labels, rotation=80)\n",
    "fig.tight_layout()\n",
    "plt.show()"
   ]
  },
  {
   "cell_type": "code",
   "execution_count": null,
   "metadata": {},
   "outputs": [],
   "source": []
  }
 ],
 "metadata": {
  "kernelspec": {
   "display_name": "Python 3",
   "language": "python",
   "name": "python3"
  },
  "language_info": {
   "codemirror_mode": {
    "name": "ipython",
    "version": 3
   },
   "file_extension": ".py",
   "mimetype": "text/x-python",
   "name": "python",
   "nbconvert_exporter": "python",
   "pygments_lexer": "ipython3",
   "version": "3.7.7"
  }
 },
 "nbformat": 4,
 "nbformat_minor": 4
}
